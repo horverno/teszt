{
 "cells": [
  {
   "cell_type": "code",
   "execution_count": 1,
   "metadata": {},
   "outputs": [
    {
     "name": "stdout",
     "output_type": "stream",
     "text": [
      "1.1.1\n"
     ]
    }
   ],
   "source": [
    "# Reading from a MCAP file\n",
    "# sudo apt install ros-$ROS_DISTRO-ros-base ros-$ROS_DISTRO-ros2bag ros-$ROS_DISTRO-rosbag2-transport ros-$ROS_DISTRO-rosbag2-storage-mcap \n",
    "from mcap import __version__\n",
    "print(__version__)\n",
    "\n",
    "\n",
    "\"\"\"script that reads ROS2 messages from an MCAP bag using the rosbag2_py API.\"\"\"\n",
    "import argparse\n",
    "from rclpy.serialization import deserialize_message\n",
    "from rosidl_runtime_py.utilities import get_message\n",
    "import rosbag2_py\n",
    "\n",
    "\n",
    "def read_messages(input_bag: str):\n",
    "    reader = rosbag2_py.SequentialReader()\n",
    "    reader.open(\n",
    "        rosbag2_py.StorageOptions(uri=input_bag, storage_id=\"mcap\"),\n",
    "        rosbag2_py.ConverterOptions(\n",
    "            input_serialization_format=\"cdr\", output_serialization_format=\"cdr\"\n",
    "        ),\n",
    "    )\n",
    "\n",
    "    topic_types = reader.get_all_topics_and_types()\n",
    "\n",
    "    def typename(topic_name):\n",
    "        for topic_type in topic_types:\n",
    "            if topic_type.name == topic_name:\n",
    "                return topic_type.type\n",
    "        raise ValueError(f\"topic {topic_name} not in bag\")\n",
    "\n",
    "    while reader.has_next():\n",
    "        topic, data, timestamp = reader.read_next()\n",
    "        msg_type = get_message(typename(topic))\n",
    "        msg = deserialize_message(data, msg_type)\n",
    "        yield topic, msg, timestamp\n",
    "    del reader\n"
   ]
  },
  {
   "cell_type": "markdown",
   "metadata": {},
   "source": [
    "```\n",
    "Topic: /lexus3/vehicle_steering | Type: std_msgs/msg/Float32 | Count: 4400\n",
    "Topic: /lexus3/vehicle_speed | Type: std_msgs/msg/Float32 | Count: 4400\n",
    "Topic: /lexus3/gps/duro/current_pose | Type: geometry_msgs/msg/PoseStamped | Count: 2970\n",
    "Topic: /lexus3/gps/duro/status_string | Type: std_msgs/msg/String | Count: 2970\n",
    "Topic: /lexus3/gps/duro/imu | Type: sensor_msgs/msg/Imu | Count: 14701\n",
    "Topic: /lexus3/gps/duro/mag | Type: sensor_msgs/msg/MagneticField | Count: 1837\n",
    "Topic: /tf_static | Type: tf2_msgs/msg/TFMessage | Count: 10\n",
    "Topic: /tf | Type: tf2_msgs/msg/TFMessage | Count: 2970\n",
    "\n",
    "Topic: /nissan/gps/duro/current_pose | Type: geometry_msgs/msg/PoseStamped | Count: 1216\n",
    "Topic: /nissan/gps/duro/imu | Type: sensor_msgs/msg/Imu | Count: 6021\n",
    "Topic: /nissan/gps/duro/mag | Type: sensor_msgs/msg/MagneticField | Count: 1505\n",
    "Topic: /nissan/gps/duro/status_string | Type: std_msgs/msg/String | Count: 1216\n",
    "Topic: /nissan/vehicle_speed | Type: std_msgs/msg/Float32 | Count: 1823\n",
    "Topic: /nissan/vehicle_steering | Type: std_msgs/msg/Float32 | Count: 1823\n",
    "```"
   ]
  },
  {
   "cell_type": "code",
   "execution_count": 2,
   "metadata": {},
   "outputs": [
    {
     "name": "stdout",
     "output_type": "stream",
     "text": [
      "/nissan/gps/duro/status_string\n",
      "/nissan/gps/duro/mag\n",
      "/nissan/gps/duro/imu\n",
      "/nissan/gps/duro/current_pose\n",
      "/nissan/vehicle_speed\n",
      "/nissan/vehicle_steering\n"
     ]
    }
   ],
   "source": [
    "inpu = \"/mnt/c/bag/jkkds02/nissan_zala_90_mixed_0.mcap\"\n",
    "\n",
    "reader = rosbag2_py.SequentialReader()\n",
    "reader.open(rosbag2_py.StorageOptions(uri=inpu, storage_id=\"mcap\"), rosbag2_py.ConverterOptions(input_serialization_format=\"cdr\", output_serialization_format=\"cdr\"),)\n",
    "\n",
    "\n",
    "# list topics\n",
    "topics = reader.get_all_topics_and_types()\n",
    "\n",
    "for topic in topics:\n",
    "    print(topic.name)\n"
   ]
  },
  {
   "cell_type": "code",
   "execution_count": 3,
   "metadata": {},
   "outputs": [
    {
     "data": {
      "text/html": [
       "<div>\n",
       "<style scoped>\n",
       "    .dataframe tbody tr th:only-of-type {\n",
       "        vertical-align: middle;\n",
       "    }\n",
       "\n",
       "    .dataframe tbody tr th {\n",
       "        vertical-align: top;\n",
       "    }\n",
       "\n",
       "    .dataframe thead th {\n",
       "        text-align: right;\n",
       "    }\n",
       "</style>\n",
       "<table border=\"1\" class=\"dataframe\">\n",
       "  <thead>\n",
       "    <tr style=\"text-align: right;\">\n",
       "      <th></th>\n",
       "      <th>Topic</th>\n",
       "      <th>Type</th>\n",
       "    </tr>\n",
       "  </thead>\n",
       "  <tbody>\n",
       "    <tr>\n",
       "      <th>0</th>\n",
       "      <td>/nissan/gps/duro/status_string</td>\n",
       "      <td>std_msgs/msg/String</td>\n",
       "    </tr>\n",
       "    <tr>\n",
       "      <th>1</th>\n",
       "      <td>/nissan/gps/duro/mag</td>\n",
       "      <td>sensor_msgs/msg/MagneticField</td>\n",
       "    </tr>\n",
       "    <tr>\n",
       "      <th>2</th>\n",
       "      <td>/nissan/gps/duro/imu</td>\n",
       "      <td>sensor_msgs/msg/Imu</td>\n",
       "    </tr>\n",
       "    <tr>\n",
       "      <th>3</th>\n",
       "      <td>/nissan/gps/duro/current_pose</td>\n",
       "      <td>geometry_msgs/msg/PoseStamped</td>\n",
       "    </tr>\n",
       "    <tr>\n",
       "      <th>4</th>\n",
       "      <td>/nissan/vehicle_speed</td>\n",
       "      <td>std_msgs/msg/Float32</td>\n",
       "    </tr>\n",
       "    <tr>\n",
       "      <th>5</th>\n",
       "      <td>/nissan/vehicle_steering</td>\n",
       "      <td>std_msgs/msg/Float32</td>\n",
       "    </tr>\n",
       "  </tbody>\n",
       "</table>\n",
       "</div>"
      ],
      "text/plain": [
       "                            Topic                           Type\n",
       "0  /nissan/gps/duro/status_string            std_msgs/msg/String\n",
       "1            /nissan/gps/duro/mag  sensor_msgs/msg/MagneticField\n",
       "2            /nissan/gps/duro/imu            sensor_msgs/msg/Imu\n",
       "3   /nissan/gps/duro/current_pose  geometry_msgs/msg/PoseStamped\n",
       "4           /nissan/vehicle_speed           std_msgs/msg/Float32\n",
       "5        /nissan/vehicle_steering           std_msgs/msg/Float32"
      ]
     },
     "execution_count": 3,
     "metadata": {},
     "output_type": "execute_result"
    }
   ],
   "source": [
    "import pandas as pd\n",
    "\n",
    "data = []\n",
    "for topic in topics:\n",
    "    data.append([topic.name, topic.type])\n",
    "\n",
    "data_df = pd.DataFrame(data)\n",
    "data_df.columns = ['Topic', 'Type']\n",
    "data_df"
   ]
  }
 ],
 "metadata": {
  "kernelspec": {
   "display_name": "inertial-vision",
   "language": "python",
   "name": "python3"
  },
  "language_info": {
   "codemirror_mode": {
    "name": "ipython",
    "version": 3
   },
   "file_extension": ".py",
   "mimetype": "text/x-python",
   "name": "python",
   "nbconvert_exporter": "python",
   "pygments_lexer": "ipython3",
   "version": "3.10.12"
  },
  "orig_nbformat": 4
 },
 "nbformat": 4,
 "nbformat_minor": 2
}
